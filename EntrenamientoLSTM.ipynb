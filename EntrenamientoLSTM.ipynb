{
  "nbformat": 4,
  "nbformat_minor": 0,
  "metadata": {
    "colab": {
      "provenance": []
    },
    "kernelspec": {
      "name": "python3",
      "display_name": "Python 3"
    },
    "language_info": {
      "name": "python"
    }
  },
  "cells": [
    {
      "cell_type": "code",
      "execution_count": 92,
      "metadata": {
        "colab": {
          "base_uri": "https://localhost:8080/"
        },
        "id": "Dn6xy3isvCNH",
        "outputId": "4b02d5f4-5018-4171-90e2-a67abae282a3"
      },
      "outputs": [
        {
          "output_type": "stream",
          "name": "stdout",
          "text": [
            "(13276, 11)\n"
          ]
        }
      ],
      "source": [
        "import numpy as np\n",
        "import os\n",
        "\n",
        "try:\n",
        "  del Data\n",
        "except:\n",
        "  print(\"Data no existe aun\")\n",
        "\n",
        "Carpeta=\"Datasets/\"\n",
        "nombresDatos=(os.listdir(Carpeta))\n",
        "\n",
        "for n,archivo in enumerate(nombresDatos):\n",
        "  Temp=np.load(Carpeta+archivo)\n",
        "  Temp=np.concatenate([Temp,np.ones((Temp.shape[0],1))*n],1)\n",
        "\n",
        "  if \"Data\" in locals ():\n",
        "    Data=np.concatenate([Data, Temp],0)\n",
        "  else:\n",
        "    Data=Temp\n",
        "\n",
        "print(Data.shape)\n",
        "\n",
        "\n",
        "Seleccion1=np.where(Data[:,-1]==2)[0]\n",
        "DatasetPrueba=(Data[Seleccion1,0:10])"
      ]
    },
    {
      "cell_type": "code",
      "source": [
        "largoSecuencia=100\n",
        "X=[]\n",
        "Y=[]\n",
        "\n",
        "NumClases=int(np.max(DatasetPrueba[:,9])+1)\n",
        "print(NumClases)\n",
        "\n",
        "for i in [1,2]:\n",
        "#for i in range(NumClases):\n",
        "  condicion=(DatasetPrueba[:,9]==i)\n",
        "  LargoClase=(len(DatasetPrueba[condicion]))\n",
        "  \n",
        "  MaxSecuencias=LargoClase-largoSecuencia\n",
        "  for j in range(MaxSecuencias):\n",
        "    XInd=DatasetPrueba[j:j+largoSecuencia,0:8]\n",
        "    X.append(XInd)\n",
        "    Y.append(i-1)\n",
        "\n",
        "print(Y)\n"
      ],
      "metadata": {
        "colab": {
          "base_uri": "https://localhost:8080/"
        },
        "id": "xrrnVHgD1cdw",
        "outputId": "efe9878b-6106-4dd5-cdd8-0c9f9e65b17f"
      },
      "execution_count": 93,
      "outputs": [
        {
          "output_type": "stream",
          "name": "stdout",
          "text": [
            "10\n",
            "[0, 0, 0, 0, 0, 0, 0, 0, 0, 0, 0, 0, 0, 0, 0, 0, 0, 0, 0, 0, 0, 0, 0, 0, 0, 0, 0, 0, 0, 0, 0, 0, 0, 0, 0, 0, 0, 0, 0, 0, 0, 0, 0, 0, 0, 0, 0, 0, 0, 1, 1, 1, 1, 1, 1, 1, 1, 1, 1, 1, 1, 1, 1, 1, 1, 1, 1, 1, 1, 1, 1, 1, 1, 1, 1, 1, 1, 1, 1, 1, 1, 1, 1, 1, 1, 1, 1, 1, 1, 1, 1, 1, 1, 1, 1, 1, 1]\n"
          ]
        }
      ]
    },
    {
      "cell_type": "code",
      "source": [
        "indices0=np.where(Y==np.zeros(len(Y)))[0]\n",
        "indices1=np.where(Y==np.ones(len(Y)))[0]\n",
        "seleccionados0=indices0[0:len(indices1)]\n",
        "print(len(indices1))\n",
        "print(len(seleccionados0))\n",
        "X=np.array(X)\n",
        "XT0=X[indices1]\n",
        "XT1=X[seleccionados0]\n",
        "XData=np.concatenate([XT0,XT1],0)\n",
        "print(XData.shape)\n",
        "Y=np.array(Y)\n",
        "YT0=Y[indices1]\n",
        "YT1=Y[seleccionados0]\n",
        "YData=np.concatenate([YT0,YT1],0)\n",
        "print(YData.shape)\n",
        "\n"
      ],
      "metadata": {
        "colab": {
          "base_uri": "https://localhost:8080/"
        },
        "id": "IDm-ZXB39ZqW",
        "outputId": "bf810c38-6438-42df-c994-412c20d53153"
      },
      "execution_count": 94,
      "outputs": [
        {
          "output_type": "stream",
          "name": "stdout",
          "text": [
            "48\n",
            "48\n",
            "(96, 100, 8)\n",
            "(96,)\n"
          ]
        }
      ]
    },
    {
      "cell_type": "code",
      "source": [
        "from tensorflow.python import metrics\n",
        "from tensorflow import keras\n",
        "from keras.layers import LSTM,Dense\n",
        "\n",
        "model=keras.Sequential()\n",
        "model.add(LSTM(128,input_shape=(XData.shape[1],XData.shape[2]),return_sequences=True))\n",
        "model.add(LSTM(64))\n",
        "model.add(Dense(100))\n",
        "model.add(Dense(1,activation=\"sigmoid\"))\n",
        "\n",
        "model.compile(\"Adam\",loss=\"binary_crossentropy\",metrics=[\"accuracy\",\"Recall\",\"Precision\"])\n",
        "model.fit(XData,YData,epochs=30,batch_size=4)\n",
        "\n",
        "model.save(\"Modelo1.h5\")"
      ],
      "metadata": {
        "colab": {
          "base_uri": "https://localhost:8080/"
        },
        "id": "XPZSDpXVCGZi",
        "outputId": "95597ad8-f513-41f1-8b5d-3ca09e8a0f51"
      },
      "execution_count": 95,
      "outputs": [
        {
          "output_type": "stream",
          "name": "stdout",
          "text": [
            "Epoch 1/30\n",
            "24/24 [==============================] - 6s 91ms/step - loss: 0.7133 - accuracy: 0.4375 - recall: 0.4792 - precision: 0.4423\n",
            "Epoch 2/30\n",
            "24/24 [==============================] - 2s 93ms/step - loss: 0.7168 - accuracy: 0.5000 - recall: 0.9583 - precision: 0.5000\n",
            "Epoch 3/30\n",
            "24/24 [==============================] - 2s 88ms/step - loss: 0.7107 - accuracy: 0.4792 - recall: 0.1875 - precision: 0.4500\n",
            "Epoch 4/30\n",
            "24/24 [==============================] - 2s 90ms/step - loss: 0.6970 - accuracy: 0.4583 - recall: 0.5417 - precision: 0.4643\n",
            "Epoch 5/30\n",
            "24/24 [==============================] - 2s 93ms/step - loss: 0.7016 - accuracy: 0.4375 - recall: 0.7708 - precision: 0.4625\n",
            "Epoch 6/30\n",
            "24/24 [==============================] - 2s 93ms/step - loss: 0.6965 - accuracy: 0.5000 - recall: 0.0000e+00 - precision: 0.0000e+00\n",
            "Epoch 7/30\n",
            "24/24 [==============================] - 2s 92ms/step - loss: 0.6971 - accuracy: 0.4375 - recall: 0.3125 - precision: 0.4167\n",
            "Epoch 8/30\n",
            "24/24 [==============================] - 2s 93ms/step - loss: 0.7132 - accuracy: 0.4167 - recall: 0.0417 - precision: 0.1667\n",
            "Epoch 9/30\n",
            "24/24 [==============================] - 2s 94ms/step - loss: 0.7021 - accuracy: 0.4583 - recall: 0.7917 - precision: 0.4750\n",
            "Epoch 10/30\n",
            "24/24 [==============================] - 2s 90ms/step - loss: 0.6968 - accuracy: 0.5000 - recall: 1.0000 - precision: 0.5000\n",
            "Epoch 11/30\n",
            "24/24 [==============================] - 2s 96ms/step - loss: 0.6963 - accuracy: 0.5000 - recall: 1.0000 - precision: 0.5000\n",
            "Epoch 12/30\n",
            "24/24 [==============================] - 2s 98ms/step - loss: 0.6946 - accuracy: 0.4792 - recall: 0.3958 - precision: 0.4750\n",
            "Epoch 13/30\n",
            "24/24 [==============================] - 2s 95ms/step - loss: 0.6942 - accuracy: 0.4583 - recall: 0.2917 - precision: 0.4375\n",
            "Epoch 14/30\n",
            "24/24 [==============================] - 2s 93ms/step - loss: 0.6981 - accuracy: 0.5000 - recall: 1.0000 - precision: 0.5000\n",
            "Epoch 15/30\n",
            "24/24 [==============================] - 2s 94ms/step - loss: 0.6952 - accuracy: 0.4583 - recall: 0.1667 - precision: 0.4000\n",
            "Epoch 16/30\n",
            "24/24 [==============================] - 2s 92ms/step - loss: 0.6961 - accuracy: 0.5000 - recall: 0.0000e+00 - precision: 0.0000e+00\n",
            "Epoch 17/30\n",
            "24/24 [==============================] - 2s 91ms/step - loss: 0.6936 - accuracy: 0.5000 - recall: 0.0417 - precision: 0.5000\n",
            "Epoch 18/30\n",
            "24/24 [==============================] - 2s 93ms/step - loss: 0.6941 - accuracy: 0.5000 - recall: 1.0000 - precision: 0.5000\n",
            "Epoch 19/30\n",
            "24/24 [==============================] - 2s 92ms/step - loss: 0.6953 - accuracy: 0.4375 - recall: 0.1458 - precision: 0.3500\n",
            "Epoch 20/30\n",
            "24/24 [==============================] - 2s 91ms/step - loss: 0.6948 - accuracy: 0.4167 - recall: 0.2083 - precision: 0.3571\n",
            "Epoch 21/30\n",
            "24/24 [==============================] - 2s 95ms/step - loss: 0.6936 - accuracy: 0.5000 - recall: 0.5417 - precision: 0.5000\n",
            "Epoch 22/30\n",
            "24/24 [==============================] - 2s 93ms/step - loss: 0.6944 - accuracy: 0.4167 - recall: 0.6667 - precision: 0.4444\n",
            "Epoch 23/30\n",
            "24/24 [==============================] - 2s 94ms/step - loss: 0.6951 - accuracy: 0.4167 - recall: 0.5833 - precision: 0.4375\n",
            "Epoch 24/30\n",
            "24/24 [==============================] - 2s 90ms/step - loss: 0.6948 - accuracy: 0.5000 - recall: 1.0000 - precision: 0.5000\n",
            "Epoch 25/30\n",
            "24/24 [==============================] - 2s 93ms/step - loss: 0.6951 - accuracy: 0.4583 - recall: 0.1667 - precision: 0.4000\n",
            "Epoch 26/30\n",
            "24/24 [==============================] - 2s 96ms/step - loss: 0.6941 - accuracy: 0.4583 - recall: 0.7917 - precision: 0.4750\n",
            "Epoch 27/30\n",
            "24/24 [==============================] - 3s 131ms/step - loss: 0.6952 - accuracy: 0.4583 - recall: 0.2500 - precision: 0.4286\n",
            "Epoch 28/30\n",
            "24/24 [==============================] - 3s 124ms/step - loss: 0.6938 - accuracy: 0.4583 - recall: 0.2500 - precision: 0.4286\n",
            "Epoch 29/30\n",
            "24/24 [==============================] - 2s 101ms/step - loss: 0.6945 - accuracy: 0.5000 - recall: 1.0000 - precision: 0.5000\n",
            "Epoch 30/30\n",
            "24/24 [==============================] - 2s 92ms/step - loss: 0.6937 - accuracy: 0.4583 - recall: 0.7500 - precision: 0.4737\n"
          ]
        }
      ]
    },
    {
      "cell_type": "code",
      "source": [
        "YPTemp=model.predict(XData)"
      ],
      "metadata": {
        "colab": {
          "base_uri": "https://localhost:8080/"
        },
        "id": "44JNidq0E-vq",
        "outputId": "c0e47ae5-690c-49ec-b089-c830abf336df"
      },
      "execution_count": 90,
      "outputs": [
        {
          "output_type": "stream",
          "name": "stdout",
          "text": [
            "2/2 [==============================] - 1s 91ms/step\n"
          ]
        }
      ]
    },
    {
      "cell_type": "code",
      "source": [
        "print(YPTemp)"
      ],
      "metadata": {
        "colab": {
          "base_uri": "https://localhost:8080/"
        },
        "id": "iq8pt2nOFQVC",
        "outputId": "ad8d2c7f-d258-488f-861f-68fb745a9c2e"
      },
      "execution_count": 91,
      "outputs": [
        {
          "output_type": "stream",
          "name": "stdout",
          "text": [
            "[[0.5049504]\n",
            " [0.5049504]\n",
            " [0.5049504]\n",
            " [0.5049504]\n",
            " [0.5049504]\n",
            " [0.5049504]\n",
            " [0.5049504]\n",
            " [0.5049504]\n",
            " [0.5049504]\n",
            " [0.5049504]\n",
            " [0.5049504]\n",
            " [0.5049504]\n",
            " [0.5049504]\n",
            " [0.5049504]\n",
            " [0.5049504]\n",
            " [0.5049504]\n",
            " [0.5049504]\n",
            " [0.5049504]\n",
            " [0.5049504]\n",
            " [0.5049504]\n",
            " [0.5049504]\n",
            " [0.5049504]\n",
            " [0.5049504]\n",
            " [0.5049504]\n",
            " [0.5049504]\n",
            " [0.5049504]\n",
            " [0.5049504]\n",
            " [0.5049504]\n",
            " [0.5049504]\n",
            " [0.5049504]\n",
            " [0.5049504]\n",
            " [0.5049504]\n",
            " [0.5049504]\n",
            " [0.5049504]\n",
            " [0.5049504]\n",
            " [0.5049504]\n",
            " [0.5049504]\n",
            " [0.5049504]\n",
            " [0.5049504]\n",
            " [0.5049504]\n",
            " [0.5049504]\n",
            " [0.5049504]\n",
            " [0.5049504]\n",
            " [0.5049504]\n",
            " [0.5049504]\n",
            " [0.5049504]\n",
            " [0.5049504]\n",
            " [0.5049504]\n",
            " [0.5049504]\n",
            " [0.5049504]\n",
            " [0.5049504]\n",
            " [0.5049504]\n",
            " [0.5049504]\n",
            " [0.5049504]\n",
            " [0.5049504]\n",
            " [0.5049504]]\n"
          ]
        }
      ]
    }
  ]
}